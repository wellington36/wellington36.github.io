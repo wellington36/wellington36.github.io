{
 "cells": [
  {
   "cell_type": "markdown",
   "metadata": {},
   "source": [
    "# Start the setup"
   ]
  },
  {
   "cell_type": "code",
   "execution_count": 2,
   "metadata": {},
   "outputs": [
    {
     "name": "stdout",
     "output_type": "stream",
     "text": [
      "Requirement already satisfied: pip in ./venv/lib/python3.11/site-packages (23.2.1)\n",
      "Collecting pip\n",
      "  Obtaining dependency information for pip from https://files.pythonhosted.org/packages/47/6a/453160888fab7c6a432a6e25f8afe6256d0d9f2cbd25971021da6491d899/pip-23.3.1-py3-none-any.whl.metadata\n",
      "  Using cached pip-23.3.1-py3-none-any.whl.metadata (3.5 kB)\n",
      "Using cached pip-23.3.1-py3-none-any.whl (2.1 MB)\n",
      "Installing collected packages: pip\n",
      "  Attempting uninstall: pip\n",
      "    Found existing installation: pip 23.2.1\n",
      "    Uninstalling pip-23.2.1:\n",
      "      Successfully uninstalled pip-23.2.1\n",
      "Successfully installed pip-23.3.1\n",
      "\u001b[33mWARNING: There was an error checking the latest version of pip.\u001b[0m\u001b[33m\n",
      "\u001b[0m"
     ]
    }
   ],
   "source": [
    "!python -m venv ./venv\n",
    "!venv/bin/python -m pip install --upgrade pip"
   ]
  },
  {
   "cell_type": "code",
   "execution_count": 3,
   "metadata": {},
   "outputs": [
    {
     "name": "stdout",
     "output_type": "stream",
     "text": [
      "Collecting mpmath\n",
      "  Using cached mpmath-1.3.0-py3-none-any.whl (536 kB)\n",
      "Installing collected packages: mpmath\n",
      "Successfully installed mpmath-1.3.0\n",
      "Collecting extrapolation\n",
      "  Using cached extrapolation-2.1.1-py3-none-any.whl.metadata (6.7 kB)\n",
      "Requirement already satisfied: mpmath in ./venv/lib/python3.11/site-packages (from extrapolation) (1.3.0)\n",
      "Using cached extrapolation-2.1.1-py3-none-any.whl (7.2 kB)\n",
      "Installing collected packages: extrapolation\n",
      "Successfully installed extrapolation-2.1.1\n"
     ]
    }
   ],
   "source": [
    "!venv/bin/pip install mpmath\n",
    "!venv/bin/pip install extrapolation"
   ]
  },
  {
   "cell_type": "markdown",
   "metadata": {},
   "source": [
    "# Extrapolation Methods\n",
    "\n",
    "Let be $S_n = {\\sum}^{n}_{i=1} a_i$ a sequence of partial sums. This repository contains implementations of the following series transformations, which generate a new sequence $T\\_n$:\n",
    "\n",
    "\n",
    "* [Aitken's transformation (or delta-squared process)](https://en.wikipedia.org/wiki/Aitken%27s_delta-squared_process):\n",
    "  - In `esum`: O($2n\\log n$)\n",
    "  - In `acelsum`: O($n$)\n",
    "\n",
    "  $$T_n = \\frac{S_{n-1} S_{n+1} - S_n^2}{S_{n+1} - 2 S_n + S_{n-1}}.$$\n",
    "\n",
    "* [Richardson's transformation (modify, with given p)](https://en.wikipedia.org/wiki/Richardson_extrapolation):\n",
    "  - In `esum`: O($2(\\log n)^2$)\n",
    "  - In `acelsum`: O($\\log n$)\n",
    "\n",
    "  $$T_n = S_{2n} + \\frac{S_{2n} - S_n}{2^p - 1}.$$\n",
    "\n",
    "  Here, we use $p = 1$ for simplicity.\n",
    "\n",
    "* [Epsilon transformation](https://www.sciencedirect.com/science/article/pii/S0377042700003551):\n",
    "  - In `esum`: O($2n\\log n$)\n",
    "  - In `acelsum`: O($n$)\n",
    "\n",
    "  Let be the auxiliary sequence $\\varepsilon_n^j$ defined by:\n",
    "\n",
    "  $$\\varepsilon_{-1}^{j} = 0\\ \\text{and}\\ \\varepsilon_{0}^{j} = S_j,$$\n",
    "\n",
    "  and inductively:\n",
    "\n",
    "  $$\\varepsilon_{k+1}^{j} = \\varepsilon_{k-1}^{j+1} + [\\varepsilon_{k}^{j+1} - \\varepsilon_{k}^{j}]^{-1}.$$\n",
    "\n",
    "  Then, $T_n = \\varepsilon_{n-1}^{2}$ (because the odd steps are only partial steps).\n",
    "\n",
    "\n",
    "* [G transformation](https://www.cambridge.org/core/books/abs/practical-extrapolation-methods/gtransformation-and-its-generalizations/B3A1C6628B6C3E6438C943E25FFA621D):\n",
    "  - In `esum`: O($4n\\log n$)\n",
    "  - In `acelsum`: O($2n$)\n",
    "\n",
    "  Let be two auxiliary sequences $s_j^{(n)}$ and $r_j^{(n)}$ defined by:\n",
    "\n",
    "  $$s^{(n)}\\_0 = 1,\\ r^{(n)}\\_1 = x\\_n,\\ n=0,1,\\ldots,$$\n",
    "\n",
    "  inductively:\n",
    "\n",
    "  $$s^{(n)}\\_{k+1} = s^{(n+1)}\\_{k} \\left( \\frac{r^{(n+1)}\\_{k+1}}{r^{(n)}\\_{k+1}} - 1 \\right),\\ k,n = 0,1,\\ldots$$\n",
    "  \n",
    "  and\n",
    "\n",
    "  $$r^{(n)}\\_{k+1} = r^{(n+1)}\\_{k} \\left( \\frac{s^{(n+1)}\\_{k}}{s^{(n)}\\_{k}} - 1 \\right),\\ k=1,2,\\ldots;\\ n=0,1,\\ldots$$\n",
    "\n",
    "  Then, $T\\_n = S\\_n - \\frac{S\\_{n+1} - S\\_{n}}{r^{(n+1)}\\_{1} - r^{(n)}\\_{1}} r^{(n)}\\_{1}$.\n",
    "\n",
    "* [Levin transformation](https://epubs.siam.org/doi/abs/10.1137/0716017):\n",
    "  - In `esum`: O($4n\\log n$)\n",
    "  - In `acelsum`: O($2n$)\n",
    "\n",
    "  This method is defined by\n",
    "\n",
    "  $$W_n^{(k)} = \\frac{M_n^{(k)}}{N_n^{(k)}}$$\n",
    "\n",
    "  where\n",
    "\n",
    "  $$M_n^{(0)} = \\frac{S_n}{g(n)},$$\n",
    "\n",
    "  $$M_{n}^{(k+1)} = \\frac{M_{n+1}^{(k)} - M_{n}^{(k)}}{a_{n + k}^{-1} - a_{n + 1}^{-1}},$$\n",
    "\n",
    "  and\n",
    "\n",
    "  $$N_n^{(0)} = \\frac{1}{g(n)},$$\n",
    "\n",
    "  $$N_{n}^{(k+1)} = \\frac{N_{n+1}^{(k)} - N_{n}^{(k)}}{a_{n + k}^{-1} - a_{n + 1}^{-1}}.$$\n",
    "\n",
    "  For the function $g(n)$, we have some classic choices for this function:\n",
    "\n",
    "  - **t-variant**: $g(n) = a_{n+1}$;\n",
    "  - **u-variant**: $g(n) = n a_n$;\n",
    "  - **v-variant**: $g(n) = a_n a_{n+1} / (a_{n+1} - a_n)$.\n",
    " \n",
    "  Then, $T\\_n = \\frac{M\\_n^{(1)}}{N\\_n^{(1)}}$."
   ]
  },
  {
   "cell_type": "code",
   "execution_count": 4,
   "metadata": {},
   "outputs": [],
   "source": [
    "from extrapolation import esum, acelsum\n",
    "import math"
   ]
  },
  {
   "cell_type": "markdown",
   "metadata": {},
   "source": [
    "# Prinpipal funcions"
   ]
  },
  {
   "cell_type": "markdown",
   "metadata": {},
   "source": [
    "### esum\n",
    "The `esum` receives on input:\n",
    "\n",
    "- *A series*: In the form of a function $f: \\mathbb{N} \\to \\mathbb{R}$ returning the terms to be summed.\n",
    "- *The Transformation*: \"Aitken\", \"Richardson\", \"Epsilon\", \"G\", \"Levin-t\", \"Levin-u\", \"Levin-v\" and \"None\", the latter being using the initial series without any transformation.\n",
    "- *The stopping criterion*: In case the difference of the last two values of the series are smaller than a given error.\n",
    "- *Return in logarithm scale*: True if you want to receive the return in logarithm scale with the sign and False if you want to receive in normal scale.\n",
    "- *Precision*: If precision is 53 we use the default python precision, otherwise the given bits precision.\n",
    "\n",
    "This function determines the minimum value of n for which, the difference between the last partial sums becomes less than the specified error when applying the transformation. And returns the series applied to the transformation. The following is an example:"
   ]
  },
  {
   "cell_type": "code",
   "execution_count": 5,
   "metadata": {},
   "outputs": [
    {
     "name": "stdout",
     "output_type": "stream",
     "text": [
      "True value:           1.6449340668482264\n",
      "Without acceleration: 1.6449330668487264267523920296, with 1000000 iterations\n",
      "With acceleration:    1.6449340611255960068665838135, with 22896 iterations\n"
     ]
    }
   ],
   "source": [
    "# Test with no_transform (without transformation) and with Richardson transformation the basel problem\n",
    "n0, no_accelerated = esum(lambda x: 1/x**2, 'None', error=1e-12, logarithm=False, precision=100)\n",
    "n1, accelerated = esum(lambda x: 1/x**2, 'Richardson', error=1e-12, logarithm=False, precision=100)\n",
    "\n",
    "# Comparison\n",
    "print(f\"True value:           {math.pi ** 2 / 6}\")\n",
    "print(f\"Without acceleration: {no_accelerated[-1]}, with {n0} iterations\")\n",
    "print(f\"With acceleration:    {accelerated[-1]}, with {n1} iterations\")"
   ]
  },
  {
   "cell_type": "markdown",
   "metadata": {},
   "source": [
    "### acelsum\n",
    "We have also the `acelsum` function, that receives on input:\n",
    "\n",
    "- *A series*: In the form of a function $f: \\mathbb{N} \\to \\mathbb{R}$ returning the terms to be summed.\n",
    "- *The Transformation*: \"Aitken\", \"Richardson\", \"Epsilon\", \"G\", \"Levin-t\", \"Levin-u\", \"Levin-v\" and \"None\", the latter being using the initial series without any transformation.\n",
    "- *Natural n*: Number of values to be summed.\n",
    "- *Return in logarithm scale*: True if you want to receive the return in logarithm scale with the sign and False if you want to receive in normal scale.\n",
    "- *Precision*: If precision is 53 we use the default python precision, otherwise the given bits precision.\n",
    "\n",
    "This function calculates partial sums up to a given natural value, returning the result in log-scale or normal by applying a chosen transformation. The following is an example:"
   ]
  },
  {
   "cell_type": "code",
   "execution_count": 6,
   "metadata": {},
   "outputs": [
    {
     "name": "stdout",
     "output_type": "stream",
     "text": [
      "True value:           1.6449340668482264\n",
      "Without acceleration: 1.6439345666815597935850701245\n",
      "With acceleration:    1.6449310678482254269248263997\n"
     ]
    }
   ],
   "source": [
    "# Test with no_transform (without transformation) and with Richardson transformation the basel problem\n",
    "no_accelerated = acelsum(lambda x: 1/x**2, 'None', n=1000, logarithm=False, precision=100)\n",
    "accelerated = acelsum(lambda x: 1/x**2, 'Richardson', n=1000, logarithm=False, precision=100)\n",
    "\n",
    "# Comparison\n",
    "print(f\"True value:           {math.pi ** 2 / 6}\")\n",
    "print(f\"Without acceleration: {no_accelerated[-1]}\")\n",
    "print(f\"With acceleration:    {accelerated[-1]}\")"
   ]
  },
  {
   "cell_type": "markdown",
   "metadata": {},
   "source": [
    "#### Remove environment"
   ]
  },
  {
   "cell_type": "code",
   "execution_count": 7,
   "metadata": {},
   "outputs": [],
   "source": [
    "!rm -r -f venv"
   ]
  }
 ],
 "metadata": {
  "kernelspec": {
   "display_name": "Python 3",
   "language": "python",
   "name": "python3"
  },
  "language_info": {
   "codemirror_mode": {
    "name": "ipython",
    "version": 3
   },
   "file_extension": ".py",
   "mimetype": "text/x-python",
   "name": "python",
   "nbconvert_exporter": "python",
   "pygments_lexer": "ipython3",
   "version": "3.11.6"
  },
  "orig_nbformat": 4
 },
 "nbformat": 4,
 "nbformat_minor": 2
}
