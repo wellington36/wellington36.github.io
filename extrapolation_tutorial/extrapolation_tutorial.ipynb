{
 "cells": [
  {
   "cell_type": "markdown",
   "metadata": {},
   "source": [
    "# Requirements"
   ]
  },
  {
   "cell_type": "code",
   "execution_count": 8,
   "metadata": {},
   "outputs": [
    {
     "name": "stdout",
     "output_type": "stream",
     "text": [
      "Requirement already satisfied: pip in ./venv/lib/python3.11/site-packages (23.2.1)\n",
      "Collecting pip\n",
      "  Obtaining dependency information for pip from https://files.pythonhosted.org/packages/47/6a/453160888fab7c6a432a6e25f8afe6256d0d9f2cbd25971021da6491d899/pip-23.3.1-py3-none-any.whl.metadata\n",
      "  Using cached pip-23.3.1-py3-none-any.whl.metadata (3.5 kB)\n",
      "Using cached pip-23.3.1-py3-none-any.whl (2.1 MB)\n",
      "Installing collected packages: pip\n",
      "  Attempting uninstall: pip\n",
      "    Found existing installation: pip 23.2.1\n",
      "    Uninstalling pip-23.2.1:\n",
      "      Successfully uninstalled pip-23.2.1\n",
      "Successfully installed pip-23.3.1\n"
     ]
    }
   ],
   "source": [
    "!python -m venv venv\n",
    "!venv/bin/python -m pip install --upgrade pip\n"
   ]
  },
  {
   "cell_type": "code",
   "execution_count": 10,
   "metadata": {},
   "outputs": [
    {
     "name": "stdout",
     "output_type": "stream",
     "text": [
      "Requirement already satisfied: mpmath in ./venv/lib/python3.11/site-packages (1.3.0)\n",
      "Collecting extrapolation\n",
      "  Downloading extrapolation-2.0.2-py3-none-any.whl.metadata (5.8 kB)\n",
      "Requirement already satisfied: mpmath in ./venv/lib/python3.11/site-packages (from extrapolation) (1.3.0)\n",
      "Downloading extrapolation-2.0.2-py3-none-any.whl (6.6 kB)\n",
      "Installing collected packages: extrapolation\n",
      "Successfully installed extrapolation-2.0.2\n"
     ]
    }
   ],
   "source": [
    "!venv/bin/pip install mpmath\n",
    "!venv/bin/pip install extrapolation"
   ]
  },
  {
   "cell_type": "code",
   "execution_count": 11,
   "metadata": {},
   "outputs": [
    {
     "name": "stdout",
     "output_type": "stream",
     "text": [
      "True value:           1.6449340668482264\n",
      "Without acceleration: 1.6449330668607708753650232828, with 1000012 iterations\n",
      "With acceleration:    1.6449340611256049164589309217, with 22896 iterations\n"
     ]
    }
   ],
   "source": [
    "from extrapolation import esum\n",
    "import math\n",
    "\n",
    "# Test with no_transform (without transformation) and with Richardson transformation the basel problem\n",
    "n0, no_accelerated = esum(lambda x: 1/x**2, 'None', error=1e-12, logarithm=False, precision=100)\n",
    "n1, accelerated = esum(lambda x: 1/x**2, 'Richardson', error=1e-12, logarithm=False, precision=100)\n",
    "\n",
    "# Comparison\n",
    "print(f\"True value:           {math.pi ** 2 / 6}\")\n",
    "print(f\"Without acceleration: {no_accelerated[-1]}, with {n0} iterations\")\n",
    "print(f\"With acceleration:    {accelerated[-1]}, with {n1} iterations\")"
   ]
  }
 ],
 "metadata": {
  "kernelspec": {
   "display_name": "Python 3",
   "language": "python",
   "name": "python3"
  },
  "language_info": {
   "codemirror_mode": {
    "name": "ipython",
    "version": 3
   },
   "file_extension": ".py",
   "mimetype": "text/x-python",
   "name": "python",
   "nbconvert_exporter": "python",
   "pygments_lexer": "ipython3",
   "version": "3.11.5"
  },
  "orig_nbformat": 4
 },
 "nbformat": 4,
 "nbformat_minor": 2
}
