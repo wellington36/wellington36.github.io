{
 "cells": [
  {
   "cell_type": "markdown",
   "metadata": {},
   "source": [
    "# Requirements and create a environment"
   ]
  },
  {
   "cell_type": "code",
   "execution_count": 14,
   "metadata": {},
   "outputs": [
    {
     "name": "stdout",
     "output_type": "stream",
     "text": [
      "Requirement already satisfied: pip in ./venv/lib/python3.11/site-packages (23.3.1)\n"
     ]
    }
   ],
   "source": [
    "!python -m venv venv\n",
    "!venv/bin/python -m pip install --upgrade pip\n"
   ]
  },
  {
   "cell_type": "code",
   "execution_count": 15,
   "metadata": {},
   "outputs": [
    {
     "name": "stdout",
     "output_type": "stream",
     "text": [
      "Requirement already satisfied: mpmath in /home/wellington/Documents/wellington36.github.io/extrapolation_tutorial/venv/lib/python3.11/site-packages (1.3.0)\n",
      "Requirement already satisfied: extrapolation in /home/wellington/Documents/wellington36.github.io/extrapolation_tutorial/venv/lib/python3.11/site-packages (2.0.2)\n",
      "Requirement already satisfied: mpmath in /home/wellington/Documents/wellington36.github.io/extrapolation_tutorial/venv/lib/python3.11/site-packages (from extrapolation) (1.3.0)\n"
     ]
    }
   ],
   "source": [
    "!venv/bin/pip install mpmath\n",
    "!venv/bin/pip install extrapolation"
   ]
  },
  {
   "cell_type": "markdown",
   "metadata": {},
   "source": [
    "# "
   ]
  },
  {
   "cell_type": "code",
   "execution_count": 11,
   "metadata": {},
   "outputs": [
    {
     "name": "stdout",
     "output_type": "stream",
     "text": [
      "True value:           1.6449340668482264\n",
      "Without acceleration: 1.6449330668607708753650232828, with 1000012 iterations\n",
      "With acceleration:    1.6449340611256049164589309217, with 22896 iterations\n"
     ]
    }
   ],
   "source": [
    "from extrapolation import esum\n",
    "import math\n",
    "\n",
    "# Test with no_transform (without transformation) and with Richardson transformation the basel problem\n",
    "n0, no_accelerated = esum(lambda x: 1/x**2, 'None', error=1e-12, logarithm=False, precision=100)\n",
    "n1, accelerated = esum(lambda x: 1/x**2, 'Richardson', error=1e-12, logarithm=False, precision=100)\n",
    "\n",
    "# Comparison\n",
    "print(f\"True value:           {math.pi ** 2 / 6}\")\n",
    "print(f\"Without acceleration: {no_accelerated[-1]}, with {n0} iterations\")\n",
    "print(f\"With acceleration:    {accelerated[-1]}, with {n1} iterations\")"
   ]
  }
 ],
 "metadata": {
  "kernelspec": {
   "display_name": "Python 3",
   "language": "python",
   "name": "python3"
  },
  "language_info": {
   "codemirror_mode": {
    "name": "ipython",
    "version": 3
   },
   "file_extension": ".py",
   "mimetype": "text/x-python",
   "name": "python",
   "nbconvert_exporter": "python",
   "pygments_lexer": "ipython3",
   "version": "3.11.5"
  },
  "orig_nbformat": 4
 },
 "nbformat": 4,
 "nbformat_minor": 2
}
